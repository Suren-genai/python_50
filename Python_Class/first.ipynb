{
 "cells": [
  {
   "cell_type": "code",
   "execution_count": 15,
   "id": "315f0ed3",
   "metadata": {},
   "outputs": [
    {
     "name": "stdout",
     "output_type": "stream",
     "text": [
      "Welcome to AI WORLD\n"
     ]
    }
   ],
   "source": [
    "file = open(\"notes.txt\", \"r\")\n",
    "content = file.read()\n",
    "print(content)\n"
   ]
  },
  {
   "cell_type": "code",
   "execution_count": 21,
   "id": "ef214fd6",
   "metadata": {},
   "outputs": [],
   "source": [
    "file = open(\"notes.txt\", \"w\")\n",
    "file.write(\"Writing the file\")\n",
    "file.close()\n"
   ]
  },
  {
   "cell_type": "code",
   "execution_count": 27,
   "id": "bf181132",
   "metadata": {},
   "outputs": [],
   "source": [
    "file = open(\"notes.txt\", \"a\")\n",
    "file.write(\"\\nAppending the text\\n\")\n",
    "file.write(\"secondline\\n\")\n",
    "file.close()"
   ]
  }
 ],
 "metadata": {
  "kernelspec": {
   "display_name": "venv",
   "language": "python",
   "name": "python3"
  },
  "language_info": {
   "codemirror_mode": {
    "name": "ipython",
    "version": 3
   },
   "file_extension": ".py",
   "mimetype": "text/x-python",
   "name": "python",
   "nbconvert_exporter": "python",
   "pygments_lexer": "ipython3",
   "version": "3.11.0"
  }
 },
 "nbformat": 4,
 "nbformat_minor": 5
}
